{
 "cells": [
  {
   "cell_type": "code",
   "execution_count": 18,
   "metadata": {
    "ExecuteTime": {
     "end_time": "2020-07-25T17:43:03.103006Z",
     "start_time": "2020-07-25T17:43:03.099041Z"
    }
   },
   "outputs": [],
   "source": [
    "import torch\n",
    "import torch.utils.data as data\n",
    "import os\n",
    "from PIL import Image\n",
    "import matplotlib.pyplot as plt\n",
    "import numpy as np\n",
    "import random\n",
    "import string\n",
    "import csv"
   ]
  },
  {
   "cell_type": "code",
   "execution_count": 23,
   "metadata": {
    "ExecuteTime": {
     "end_time": "2020-07-25T17:44:10.788606Z",
     "start_time": "2020-07-25T17:44:10.776668Z"
    }
   },
   "outputs": [],
   "source": [
    "class CSVTextClassificationDataset(data.Dataset):\n",
    "    \"\"\"\n",
    "    Reads a CSV file.\n",
    "    \n",
    "    Requires first column to be text data, second column to be labels \n",
    "    \"\"\"\n",
    "    def __init__(self,\n",
    "                 txt_dir,\n",
    "                 tokenizer = str.split,\n",
    "                 skip_header = True,\n",
    "                 max_samples = None,\n",
    "                 shuffle = False):\n",
    "        \n",
    "        self.dir = txt_dir\n",
    "        self.shuffle = shuffle\n",
    "        self.tokenizer = tokenizer\n",
    "        self.skip_header = skip_header\n",
    "        self.max_samples = max_samples\n",
    "        self.fns = self.load_txt()\n",
    "        self.classes = list(set([i[1] for i in self.fns]))\n",
    "        \n",
    "    def load_txt(self):  \n",
    "        data_list = []\n",
    "        with open(self.dir, 'r', encoding = 'utf8') as fv:\n",
    "            src_data = csv.reader(fv)\n",
    "            if self.skip_header:\n",
    "                next(src_data)\n",
    "            for row in src_data:\n",
    "                data_list.append(row)\n",
    "        if self.shuffle:\n",
    "            random.shuffle(data_list)\n",
    "        data_list = data_list[:self.max_samples] if self.max_samples is not None else data_list\n",
    "        return data_list\n",
    "    \n",
    "    def __getitem__(self, index):\n",
    "        txt, label = self.fns[index]\n",
    "        tokens = self.tokenizer(txt)\n",
    "        \n",
    "        return {\"txt\" : tokens,\n",
    "               \"label\" : label} \n",
    "\n",
    "    def count_dict(self):\n",
    "        cnt_dict = {}\n",
    "        for text, label in self.fns:\n",
    "            if label in cnt_dict.keys():\n",
    "                  cnt_dict[label] += 1\n",
    "            else:\n",
    "                  cnt_dict[label] = 1\n",
    "        return cnt_dict\n",
    "\n",
    "    def plot(self, figsize = (8,8), types = [\"freqs\"]):\n",
    "        cnt_dict = self.count_dict()\n",
    "        ax = plt.figure(figsize = figsize)\n",
    "        \n",
    "        if \"freqs\" in types:\n",
    "            plt.title(\"Classes Distribution\")\n",
    "            bar1 = plt.bar(list(cnt_dict.keys()), list(cnt_dict.values()), color=[np.random.rand(3,) for i in range(len(self.classes))])\n",
    "            plt.xlabel(\"Classes\")\n",
    "            plt.ylabel(\"Number of samples\")\n",
    "            for rect in bar1:\n",
    "                height = rect.get_height()\n",
    "                plt.text(rect.get_x() + rect.get_width()/2.0, height, '%d' % int(height), ha='center', va='bottom')\n",
    "\n",
    "        if \"grams\" in types:\n",
    "            pass\n",
    "\n",
    "\n",
    "    def __len__(self):\n",
    "        return len(self.fns)\n",
    "    \n",
    "    def __str__(self):\n",
    "        s = \"Custom Dataset for Text Classification \\n\"\n",
    "        line = \"-------------------------------\\n\"\n",
    "        s1 = \"Number of samples: \" + str(len(self.fns)) + '\\n'\n",
    "        s2 = \"Number of classes: \" + str(len(self.classes)) + '\\n'\n",
    "        return s + line + s1 + s2"
   ]
  },
  {
   "cell_type": "code",
   "execution_count": null,
   "metadata": {},
   "outputs": [],
   "source": [
    "class CustomVocabulary(data.Dataset):\n",
    "    def __init__(self,\n",
    "                max_size = None,\n",
    "                init_token = \"<sos>\",\n",
    "                eos_token = \"<eos>\",\n",
    "                pad_token = \"<pad>\",\n",
    "                unk_token = \"<unk>\"):\n",
    "    \n",
    "        self.max_size = max_size\n",
    "        self.freqs = {}\n",
    "    \n",
    "        self.vocab_size = 4\n",
    "        self.special_tokens = {\n",
    "            \"init_token\": init_token,\n",
    "            \"eos_token\" : eos_token,\n",
    "            \"pad_token\" : pad_token,\n",
    "            \"unk_token\" : unk_token\n",
    "        }\n",
    "\n",
    "        self.stoi ={\n",
    "            init_token: 0,\n",
    "            eos_token: 1,\n",
    "            pad_token: 2,\n",
    "            unk_token: 3,\n",
    "        }\n",
    "\n",
    "    def build_vocab(self, dataset):\n",
    "        self.dataset = dataset\n",
    "        self.fns = dataset.fns\n",
    "\n",
    "        for sentence,_ in self.fns:\n",
    "            for token in sentence.split():\n",
    "                if token not in self.stoi:\n",
    "                    if self.max_size is not None:\n",
    "                        if self.vocab_size >= self.max_size:\n",
    "                            continue\n",
    "                    self.stoi[token] = self.vocab_size     #index\n",
    "                    self.vocab_size += 1\n",
    "                    self.freqs[token] = 1\n",
    "                else:\n",
    "                    self.freqs[token] +=1\n",
    "        self.freqs = {k: v for k, v in sorted(self.freqs.items(), key=lambda item: item[1], reverse = True)}\n",
    "    \n",
    "    def most_common(self, topk = None):\n",
    "        if topk is None:\n",
    "            topk = self.max_size\n",
    "        idx = 0\n",
    "        common_dict = {}\n",
    "        for token, freq in self.freqs.items():\n",
    "            if idx >= topk:\n",
    "                break\n",
    "            common_dict[token] = freq\n",
    "            idx += 1\n",
    "            \n",
    "        return common_dict\n",
    "\n",
    "\n",
    "    def plot(self, types = [\"freqs\"]):\n",
    "        pass\n",
    "    \n",
    "    def __len__(self):\n",
    "        return self.vocab_size\n",
    "        \n",
    "    def __str__(self):\n",
    "        s = \"Custom Vocabulary  \\n\"\n",
    "        line = \"-------------------------------\\n\"\n",
    "        s1 = \"Number of unique words in dataset: \" + str(self.vocab_size) + '\\n'\n",
    "        return s + line + s1"
   ]
  },
  {
   "cell_type": "code",
   "execution_count": 24,
   "metadata": {
    "ExecuteTime": {
     "end_time": "2020-07-25T17:44:14.560364Z",
     "start_time": "2020-07-25T17:44:14.247776Z"
    }
   },
   "outputs": [
    {
     "name": "stdout",
     "output_type": "stream",
     "text": [
      "Custom Text Classification Dataset\n",
      "-------------------------------\n",
      "Number of samples: 132127\n",
      "Number of classes: 5\n",
      "\n"
     ]
    }
   ],
   "source": [
    "dataset = CSVTextClassificationDataset(\"datasets/train.csv\")\n",
    "print(dataset)"
   ]
  },
  {
   "cell_type": "code",
   "execution_count": 25,
   "metadata": {
    "ExecuteTime": {
     "end_time": "2020-07-25T17:46:29.070150Z",
     "start_time": "2020-07-25T17:46:29.066157Z"
    },
    "scrolled": false
   },
   "outputs": [
    {
     "name": "stdout",
     "output_type": "stream",
     "text": [
      "{'txt': ['Sorry', 'servicing', 'very', 'teruk..mesej', 'xpernah', 'unrequited', '...', 'goods', 'posted', 'after', 'nearly', '3minggu', 'order.dalam', 'ad', 'size', '262cm,', 'but', 'that', 'up', 'to', '200cm.', 'Dah', 'la', 'main', 'post', 'box', 'without', 'wrapping', 'a', 'little', 'pound,', 'crushed', 'boxes.', 'Swimming', 'yet', 'tried', 'pam..harap', 'ok', 'la,', 'xde', 'leak'], 'label': '1'}\n"
     ]
    }
   ],
   "source": [
    "print(dataset[0])"
   ]
  },
  {
   "cell_type": "code",
   "execution_count": null,
   "metadata": {},
   "outputs": [],
   "source": [
    "vocab = CustomVocabulary()\n",
    "vocab.build_vocab(dataset)\n",
    "print(vocab.most_common(10))"
   ]
  },
  {
   "cell_type": "code",
   "execution_count": 5,
   "metadata": {
    "ExecuteTime": {
     "end_time": "2020-07-25T16:49:37.105542Z",
     "start_time": "2020-07-25T16:49:36.979884Z"
    }
   },
   "outputs": [
    {
     "data": {
      "image/png": "[encoded data removed]",
      "text/plain": [
       "<Figure size 576x576 with 1 Axes>"
      ]
     },
     "metadata": {
      "needs_background": "light"
     },
     "output_type": "display_data"
    }
   ],
   "source": [
    "dataset.plot()"
   ]
  }
 ],
 "metadata": {
  "kernelspec": {
   "display_name": "Python 3",
   "language": "python",
   "name": "python3"
  },
  "language_info": {
   "codemirror_mode": {
    "name": "ipython",
    "version": 3
   },
   "file_extension": ".py",
   "mimetype": "text/x-python",
   "name": "python",
   "nbconvert_exporter": "python",
   "pygments_lexer": "ipython3",
   "version": "3.7.6"
  }
 },
 "nbformat": 4,
 "nbformat_minor": 2
}
