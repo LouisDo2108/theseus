{
 "cells": [
  {
   "cell_type": "code",
   "execution_count": null,
   "metadata": {
    "ExecuteTime": {
     "end_time": "2020-08-20T12:57:11.908920Z",
     "start_time": "2020-08-20T12:57:09.703482Z"
    }
   },
   "outputs": [],
   "source": [
    "from utils.getter import *\n",
    "import torch.utils.data as data\n",
    "import torch\n",
    "import torchvision.models as models\n",
    "from tqdm import tqdm\n",
    "import torch.nn as nn"
   ]
  },
  {
   "cell_type": "code",
   "execution_count": null,
   "metadata": {
    "ExecuteTime": {
     "end_time": "2020-08-20T12:57:11.912876Z",
     "start_time": "2020-08-20T12:57:11.909882Z"
    }
   },
   "outputs": [],
   "source": [
    "transforms = Compose([\n",
    "    Resize((300,300)),\n",
    "    ToTensor(),\n",
    "    Normalize(),\n",
    "])"
   ]
  },
  {
   "cell_type": "code",
   "execution_count": null,
   "metadata": {
    "ExecuteTime": {
     "end_time": "2020-08-20T13:00:32.553108Z",
     "start_time": "2020-08-20T13:00:32.297758Z"
    }
   },
   "outputs": [],
   "source": [
    "data_path = \"datasets/datasets/Garbage Classification\"\n",
    "voc_path = \"datasets/datasets/VOC/images\"\n",
    "voc_anno = {\n",
    "    \"train\": \"datasets/datasets/VOC/annotations/pascal_train2012.json\",\n",
    "    \"val\": \"datasets/datasets/VOC/annotations/pascal_val2012.json\"}\n",
    "\n",
    "#trainset = ImageClassificationDataset(data_path+ \"/train\", transforms= transforms, shuffle=True)\n",
    "#valset = ImageClassificationDataset(data_path+ \"/val\", transforms= transforms, shuffle = True)\n",
    "\n",
    "trainset = ObjectDetectionDataset(img_dir=voc_path, ann_path = voc_anno['train'],transforms= transforms)\n",
    "valset = ObjectDetectionDataset(img_dir=voc_path, ann_path = voc_anno['val'],transforms= transforms)\n",
    "print(trainset)\n",
    "print(valset)"
   ]
  },
  {
   "cell_type": "code",
   "execution_count": null,
   "metadata": {
    "ExecuteTime": {
     "end_time": "2020-08-20T13:01:01.454320Z",
     "start_time": "2020-08-20T13:01:01.268825Z"
    }
   },
   "outputs": [],
   "source": [
    "trainset.visualize_item(figsize=(5,5))"
   ]
  },
  {
   "cell_type": "code",
   "execution_count": null,
   "metadata": {
    "ExecuteTime": {
     "end_time": "2020-08-20T12:57:28.874008Z",
     "start_time": "2020-08-20T12:57:28.837775Z"
    }
   },
   "outputs": [],
   "source": [
    "device = torch.device(\"cuda\" if torch.cuda.is_available() else \"cpu\")\n",
    "print(\"Using\", device)"
   ]
  },
  {
   "cell_type": "code",
   "execution_count": null,
   "metadata": {
    "ExecuteTime": {
     "end_time": "2020-08-20T12:57:32.904578Z",
     "start_time": "2020-08-20T12:57:32.900560Z"
    }
   },
   "outputs": [],
   "source": [
    "# Dataloader\n",
    "BATCH_SIZE = 8\n",
    "trainloader = data.DataLoader(trainset, batch_size=BATCH_SIZE, shuffle=True)\n",
    "valloader = data.DataLoader(valset, batch_size=BATCH_SIZE, shuffle=False)"
   ]
  },
  {
   "cell_type": "code",
   "execution_count": null,
   "metadata": {
    "ExecuteTime": {
     "end_time": "2020-08-20T12:57:34.274945Z",
     "start_time": "2020-08-20T12:57:34.271928Z"
    }
   },
   "outputs": [],
   "source": [
    "criterion = nn.CrossEntropyLoss()\n",
    "optimizer = torch.optim.Adam\n",
    "metrics = [AccuracyMetric(decimals=3)]"
   ]
  },
  {
   "cell_type": "code",
   "execution_count": null,
   "metadata": {
    "ExecuteTime": {
     "end_time": "2020-08-20T12:57:40.398721Z",
     "start_time": "2020-08-20T12:57:35.902893Z"
    }
   },
   "outputs": [],
   "source": [
    "NUM_CLASSES = len(trainset.classes)\n",
    "model = ResNet34(NUM_CLASSES,\n",
    "                 lr = 1e-4,\n",
    "                 criterion= criterion, \n",
    "                 optimizer= optimizer,\n",
    "                 metrics=  metrics,\n",
    "                 device = device)\n",
    "#load_checkpoint(model, \"weights/ResNet34-12.pth\")"
   ]
  },
  {
   "cell_type": "code",
   "execution_count": null,
   "metadata": {
    "ExecuteTime": {
     "end_time": "2020-08-20T12:57:41.732548Z",
     "start_time": "2020-08-20T12:57:41.315155Z"
    }
   },
   "outputs": [],
   "source": [
    "cp = Checkpoint(save_per_epoch=1)\n",
    "trainer = Trainer(model,\n",
    "                 trainloader, \n",
    "                 valloader,\n",
    "                 checkpoint = cp, \n",
    "                 evaluate_per_epoch = 1)\n",
    "\n",
    "trainer.fit(num_epochs=5)"
   ]
  },
  {
   "cell_type": "code",
   "execution_count": null,
   "metadata": {
    "ExecuteTime": {
     "end_time": "2020-08-19T17:04:22.445151Z",
     "start_time": "2020-08-19T17:04:19.563219Z"
    }
   },
   "outputs": [],
   "source": [
    "preds = trainer.inference_batch(valloader)\n",
    "print(preds)"
   ]
  },
  {
   "cell_type": "code",
   "execution_count": null,
   "metadata": {
    "ExecuteTime": {
     "end_time": "2020-08-19T17:04:35.298649Z",
     "start_time": "2020-08-19T17:04:35.078239Z"
    }
   },
   "outputs": [],
   "source": [
    "idx = 35\n",
    "print(valset.classes[preds[idx]])\n",
    "valset.visualize_item(idx, figsize = (8,8))"
   ]
  }
 ],
 "metadata": {
  "kernelspec": {
   "display_name": "Python 3.7.6 64-bit",
   "language": "python",
   "name": "python37664bitf1e933645d11461e8e62088c1ac0a078"
  },
  "language_info": {
   "codemirror_mode": {
    "name": "ipython",
    "version": 3
   },
   "file_extension": ".py",
   "mimetype": "text/x-python",
   "name": "python",
   "nbconvert_exporter": "python",
   "pygments_lexer": "ipython3",
   "version": "3.7.6"
  }
 },
 "nbformat": 4,
 "nbformat_minor": 2
}
