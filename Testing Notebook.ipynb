{
 "cells": [
  {
   "cell_type": "code",
   "execution_count": 1,
   "metadata": {
    "ExecuteTime": {
     "end_time": "2020-08-21T17:42:08.293047Z",
     "start_time": "2020-08-21T17:42:06.008868Z"
    }
   },
   "outputs": [],
   "source": [
    "from utils.getter import *"
   ]
  },
  {
   "cell_type": "code",
   "execution_count": 2,
   "metadata": {},
   "outputs": [],
   "source": [
    "from models.retinanet import *\n",
    "from models.ssd.model import *"
   ]
  },
  {
   "cell_type": "code",
   "execution_count": 3,
   "metadata": {},
   "outputs": [],
   "source": [
    "device = torch.device('cuda')"
   ]
  },
  {
   "cell_type": "code",
   "execution_count": 4,
   "metadata": {
    "ExecuteTime": {
     "end_time": "2020-08-21T17:42:08.297036Z",
     "start_time": "2020-08-21T17:42:08.294045Z"
    }
   },
   "outputs": [],
   "source": [
    "transforms = Compose([\n",
    "    Resize((300,300)),\n",
    "    ToTensor(),\n",
    "    Normalize(),\n",
    "])"
   ]
  },
  {
   "cell_type": "code",
   "execution_count": 5,
   "metadata": {
    "ExecuteTime": {
     "end_time": "2020-08-21T17:42:08.516478Z",
     "start_time": "2020-08-21T17:42:08.298035Z"
    },
    "scrolled": false
   },
   "outputs": [
    {
     "name": "stdout",
     "output_type": "stream",
     "text": [
      "Custom Dataset for Object Detection\n",
      "-------------------------------\n",
      "Number of samples: 5717\n",
      "Number of classes: 20\n",
      "\n",
      "Custom Dataset for Object Detection\n",
      "-------------------------------\n",
      "Number of samples: 5823\n",
      "Number of classes: 20\n",
      "\n"
     ]
    }
   ],
   "source": [
    "data_path = \"datasets/datasets/Garbage Classification\"\n",
    "voc_path = \"datasets/datasets/VOC/images\"\n",
    "voc_anno = {\n",
    "    \"train\": \"datasets/datasets/VOC/annotations/pascal_train2012.json\",\n",
    "    \"val\": \"datasets/datasets/VOC/annotations/pascal_val2012.json\"}\n",
    "\n",
    "trainset = ObjectDetectionDataset(img_dir=voc_path, ann_path = voc_anno['train'],transforms= transforms)\n",
    "valset = ObjectDetectionDataset(img_dir=voc_path, ann_path = voc_anno['val'],transforms= transforms)\n",
    "NUM_CLASSES = len(trainset.classes)\n",
    "print(trainset)\n",
    "print(valset)"
   ]
  },
  {
   "cell_type": "code",
   "execution_count": null,
   "metadata": {
    "ExecuteTime": {
     "end_time": "2020-08-21T17:42:08.736370Z",
     "start_time": "2020-08-21T17:42:08.517461Z"
    }
   },
   "outputs": [],
   "source": [
    "trainset.visualize_item(figsize=(5,5))"
   ]
  },
  {
   "cell_type": "code",
   "execution_count": 6,
   "metadata": {},
   "outputs": [
    {
     "name": "stdout",
     "output_type": "stream",
     "text": [
      "torch.Size([17451, 4])\n"
     ]
    }
   ],
   "source": [
    "my_collate = RetinaNetCollator()\n",
    "t = my_collate.encoder._get_anchor_boxes(torch.Tensor([300,300]))\n",
    "print(t.shape)"
   ]
  },
  {
   "cell_type": "code",
   "execution_count": null,
   "metadata": {},
   "outputs": [],
   "source": [
    "criterion = FocalLoss(num_classes = 20)"
   ]
  },
  {
   "cell_type": "code",
   "execution_count": null,
   "metadata": {
    "ExecuteTime": {
     "end_time": "2020-08-21T17:42:08.754830Z",
     "start_time": "2020-08-21T17:42:08.749874Z"
    }
   },
   "outputs": [],
   "source": [
    "BATCH_SIZE = 4\n",
    "my_collate = trainset.collate_fn#RetinaNetCollator() #trainset.collate_fn, valset.collate_fn\n",
    "trainloader = data.DataLoader(trainset, batch_size=BATCH_SIZE, collate_fn=my_collate, shuffle=True)\n",
    "valloader = data.DataLoader(valset, batch_size=BATCH_SIZE, collate_fn=my_collate, shuffle=False)"
   ]
  },
  {
   "cell_type": "code",
   "execution_count": null,
   "metadata": {
    "ExecuteTime": {
     "end_time": "2020-08-21T17:42:45.001361Z",
     "start_time": "2020-08-21T17:42:42.992611Z"
    },
    "scrolled": true
   },
   "outputs": [],
   "source": [
    "criterion = MultiBoxLoss#FocalLoss\n",
    "optimizer = torch.optim.Adam\n",
    "\n",
    "model = SSDDetector(\n",
    "                n_classes = NUM_CLASSES,\n",
    "                lr = 1e-3,\n",
    "                criterion= criterion, \n",
    "                optimizer= optimizer,\n",
    "                device = device)\n",
    "\n",
    "load_checkpoint(model, 'weights/2020-08-24_09-39-07/SSD300-30.pth')"
   ]
  },
  {
   "cell_type": "code",
   "execution_count": null,
   "metadata": {},
   "outputs": [],
   "source": [
    "trainer = Trainer(model,\n",
    "                     trainloader, \n",
    "                     valloader,\n",
    "                     clip_grad = 1.0,\n",
    "                     checkpoint = Checkpoint(save_per_epoch=1),\n",
    "                     scheduler = StepLR(model.optimizer, step_size=5, gamma=0.5),\n",
    "                     evaluate_per_epoch = 15)\n",
    "    \n",
    "print(trainer)"
   ]
  },
  {
   "cell_type": "code",
   "execution_count": null,
   "metadata": {
    "scrolled": true
   },
   "outputs": [],
   "source": [
    "loc_preds, cls_preds = trainer.inference_batch(valloader)\n",
    "print(loc_preds[0].shape)\n",
    "print(cls_preds[0].shape)\n",
    "results = model.model.detect(\n",
    "            loc_preds,\n",
    "            cls_preds,\n",
    "            min_score=0.01,\n",
    "            max_overlap=0.45,\n",
    "            top_k=200)\n",
    "#results = my_collate.encoder.decode(loc_preds[0].cuda(),cls_preds[0].cuda(),300)\n",
    "print(results)"
   ]
  },
  {
   "cell_type": "code",
   "execution_count": null,
   "metadata": {},
   "outputs": [],
   "source": [
    "boxes, labels, scores = results\n",
    "scores = scores[0]\n",
    "labels = labels[0]\n",
    "boxes = boxes[0]"
   ]
  },
  {
   "cell_type": "code",
   "execution_count": null,
   "metadata": {},
   "outputs": [],
   "source": [
    "_,idx = scores.max(dim=0)\n",
    "np_box = boxes[idx]\n",
    "np_label = [labels[idx].numpy().tolist()]\n",
    "np_score = scores[idx].numpy()\n",
    "print(np_score)"
   ]
  },
  {
   "cell_type": "code",
   "execution_count": null,
   "metadata": {},
   "outputs": [],
   "source": [
    "for b in valloader:\n",
    "    img = b['imgs']\n",
    "    break\n",
    "img = img.squeeze(0)"
   ]
  },
  {
   "cell_type": "code",
   "execution_count": null,
   "metadata": {},
   "outputs": [],
   "source": [
    "outs = trainset.transforms.denormalize(img = img,box =[np_box],label = None)\n",
    "true_box = [outs['box'][0].numpy().tolist()]\n",
    "true_img = outs['img']"
   ]
  },
  {
   "cell_type": "code",
   "execution_count": null,
   "metadata": {},
   "outputs": [],
   "source": [
    "trainset.visualize(true_img, true_box, np_label)"
   ]
  },
  {
   "cell_type": "code",
   "execution_count": null,
   "metadata": {},
   "outputs": [],
   "source": [
    "print(cls_preds)"
   ]
  },
  {
   "cell_type": "code",
   "execution_count": null,
   "metadata": {},
   "outputs": [],
   "source": [
    "print(results[1].unique())"
   ]
  },
  {
   "cell_type": "code",
   "execution_count": null,
   "metadata": {},
   "outputs": [],
   "source": [
    "box_test = results[0][0].cpu()\n",
    "label_test = results[1][0].cpu()\n",
    "for batch in valloader:\n",
    "    img_test = batch['imgs'][0]\n",
    "    break\n",
    "s = valset.transforms.denormalize(img = img_test, box = box_test, label = label_test)\n",
    "img = s['img']\n",
    "boxes = [s['box'].numpy().tolist()]\n",
    "label = [s['label'].numpy().tolist()]\n",
    "print(boxes,label)\n",
    "valset.visualize(img,boxes,label)"
   ]
  },
  {
   "cell_type": "code",
   "execution_count": null,
   "metadata": {
    "ExecuteTime": {
     "end_time": "2020-08-21T17:28:12.532229Z",
     "start_time": "2020-08-21T17:15:59.075381Z"
    },
    "scrolled": true
   },
   "outputs": [],
   "source": [
    "for idx, batch in enumerate(trainloader):\n",
    "    optimizer.zero_grad()\n",
    "    imgs = batch['imgs'].to(device)\n",
    "    #boxes = [x.to(device) for x in batch['boxes']]\n",
    "    #labels = [x.to(device) for x in batch['labels']]\n",
    "    boxes = batch['boxes'].to(device)\n",
    "    labels = batch['labels'].to(device)\n",
    "  \n",
    "    loc_preds, cls_preds = model(imgs)\n",
    "    loss = criterion(loc_preds, cls_preds, boxes, labels)\n",
    "    loss.backward()\n",
    "    torch.nn.utils.clip_grad_norm_(model.parameters(), 1.0)\n",
    "    optimizer.step()\n",
    "\n",
    "    if idx % 10 == 0:\n",
    "        print('[{}/{}] | Loss: {} '.format(idx, len(trainloader), loss.item()))\n",
    "        #print('[{}/{}] | C: {} | B: {} '.format(idx, len(trainloader), losses['C'].item(), losses['B'].item()))"
   ]
  },
  {
   "cell_type": "code",
   "execution_count": null,
   "metadata": {
    "ExecuteTime": {
     "end_time": "2020-08-21T13:06:06.741204Z",
     "start_time": "2020-08-21T13:06:06.572686Z"
    }
   },
   "outputs": [],
   "source": [
    "for idx, batch in enumerate(trainloader):\n",
    "    with torch.no_grad():\n",
    "        imgs = batch['imgs'].to(device)\n",
    "        boxes = [x.to(device) for x in batch['boxes']]\n",
    "        labels = [x.to(device) for x in batch['labels']]\n",
    "        loc_preds, cls_preds = model(imgs)\n",
    "        det_boxes, det_labels, det_scores = model.detect_objects(\n",
    "            loc_preds,\n",
    "            cls_preds,\n",
    "            min_score=0.01,\n",
    "            max_overlap=0.45,\n",
    "            top_k=200)\n",
    "    break"
   ]
  },
  {
   "cell_type": "code",
   "execution_count": null,
   "metadata": {
    "ExecuteTime": {
     "end_time": "2020-08-21T13:06:57.171611Z",
     "start_time": "2020-08-21T13:06:57.160640Z"
    }
   },
   "outputs": [],
   "source": [
    "print(det_scores)"
   ]
  },
  {
   "cell_type": "code",
   "execution_count": null,
   "metadata": {
    "ExecuteTime": {
     "end_time": "2020-08-21T12:50:18.707041Z",
     "start_time": "2020-08-21T12:50:18.666152Z"
    }
   },
   "outputs": [],
   "source": [
    "criterion = nn.CrossEntropyLoss()\n",
    "optimizer = torch.optim.Adam\n",
    "metrics = [AccuracyMetric(decimals=3)]"
   ]
  },
  {
   "cell_type": "code",
   "execution_count": null,
   "metadata": {
    "ExecuteTime": {
     "end_time": "2020-08-20T12:57:40.398721Z",
     "start_time": "2020-08-20T12:57:35.902893Z"
    }
   },
   "outputs": [],
   "source": [
    "NUM_CLASSES = len(trainset.classes)\n",
    "model = ResNet34(NUM_CLASSES,\n",
    "                 lr = 1e-4,\n",
    "                 criterion= criterion, \n",
    "                 optimizer= optimizer,\n",
    "                 metrics=  metrics,\n",
    "                 device = device)\n",
    "#load_checkpoint(model, \"weights/ResNet34-12.pth\")"
   ]
  },
  {
   "cell_type": "code",
   "execution_count": null,
   "metadata": {
    "ExecuteTime": {
     "end_time": "2020-08-20T12:57:41.732548Z",
     "start_time": "2020-08-20T12:57:41.315155Z"
    }
   },
   "outputs": [],
   "source": [
    "cp = Checkpoint(save_per_epoch=1)\n",
    "trainer = Trainer(model,\n",
    "                 trainloader, \n",
    "                 valloader,\n",
    "                 checkpoint = cp, \n",
    "                 evaluate_per_epoch = 1)\n",
    "\n",
    "trainer.fit(num_epochs=5)"
   ]
  },
  {
   "cell_type": "code",
   "execution_count": null,
   "metadata": {
    "ExecuteTime": {
     "end_time": "2020-08-19T17:04:22.445151Z",
     "start_time": "2020-08-19T17:04:19.563219Z"
    }
   },
   "outputs": [],
   "source": [
    "preds = trainer.inference_batch(valloader)\n",
    "print(preds)"
   ]
  },
  {
   "cell_type": "code",
   "execution_count": null,
   "metadata": {
    "ExecuteTime": {
     "end_time": "2020-08-19T17:04:35.298649Z",
     "start_time": "2020-08-19T17:04:35.078239Z"
    }
   },
   "outputs": [],
   "source": [
    "idx = 35\n",
    "print(valset.classes[preds[idx]])\n",
    "valset.visualize_item(idx, figsize = (8,8))"
   ]
  }
 ],
 "metadata": {
  "kernelspec": {
   "display_name": "Python 3",
   "language": "python",
   "name": "python3"
  },
  "language_info": {
   "codemirror_mode": {
    "name": "ipython",
    "version": 3
   },
   "file_extension": ".py",
   "mimetype": "text/x-python",
   "name": "python",
   "nbconvert_exporter": "python",
   "pygments_lexer": "ipython3",
   "version": "3.8.5"
  }
 },
 "nbformat": 4,
 "nbformat_minor": 2
}
