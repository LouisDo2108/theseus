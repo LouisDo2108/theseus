{
 "cells": [
  {
   "cell_type": "code",
   "execution_count": 1,
   "metadata": {
    "ExecuteTime": {
     "end_time": "2020-08-19T17:36:12.811437Z",
     "start_time": "2020-08-19T17:36:10.450467Z"
    }
   },
   "outputs": [
    {
     "name": "stderr",
     "output_type": "stream",
     "text": [
      "C:\\Users\\Kay Kieran\\.conda\\envs\\main\\lib\\site-packages\\numpy\\_distributor_init.py:32: UserWarning: loaded more than 1 DLL from .libs:\n",
      "C:\\Users\\Kay Kieran\\.conda\\envs\\main\\lib\\site-packages\\numpy\\.libs\\libopenblas.PYQHXLVVQ7VESDPUVUADXEVJOBGHJPAY.gfortran-win_amd64.dll\n",
      "C:\\Users\\Kay Kieran\\.conda\\envs\\main\\lib\\site-packages\\numpy\\.libs\\libopenblas.TXA6YQSD3GCQQC22GEQ54J2UDCXDXHWN.gfortran-win_amd64.dll\n",
      "  stacklevel=1)\n",
      "[nltk_data] Downloading package stopwords to C:\\Users\\Kay\n",
      "[nltk_data]     Kieran\\AppData\\Roaming\\nltk_data...\n",
      "[nltk_data]   Package stopwords is already up-to-date!\n"
     ]
    }
   ],
   "source": [
    "from utils.getter import *\n",
    "import torch.utils.data as data\n",
    "import torch\n",
    "import torchvision.models as models\n",
    "from tqdm import tqdm\n",
    "import torch.nn as nn"
   ]
  },
  {
   "cell_type": "code",
   "execution_count": 2,
   "metadata": {
    "ExecuteTime": {
     "end_time": "2020-08-19T17:36:15.923729Z",
     "start_time": "2020-08-19T17:36:15.920709Z"
    }
   },
   "outputs": [],
   "source": [
    "transforms = Compose([\n",
    "    Resize((300,300)),\n",
    "    ToTensor(),\n",
    "    Normalize(),\n",
    "])"
   ]
  },
  {
   "cell_type": "code",
   "execution_count": 4,
   "metadata": {
    "ExecuteTime": {
     "end_time": "2020-08-19T17:36:47.902193Z",
     "start_time": "2020-08-19T17:36:47.610217Z"
    }
   },
   "outputs": [
    {
     "name": "stdout",
     "output_type": "stream",
     "text": [
      "Custom Dataset for Object Detection\n",
      "-------------------------------\n",
      "Number of samples: 17125\n",
      "Number of classes: 20\n",
      "\n",
      "Custom Dataset for Object Detection\n",
      "-------------------------------\n",
      "Number of samples: 17125\n",
      "Number of classes: 20\n",
      "\n"
     ]
    }
   ],
   "source": [
    "data_path = \"datasets/datasets/Garbage Classification\"\n",
    "voc_path = \"datasets/datasets/VOC/images\"\n",
    "voc_anno = {\n",
    "    \"train\": \"datasets/datasets/VOC/annotations/pascal_train2012.json\",\n",
    "    \"val\": \"datasets/datasets/VOC/annotations/pascal_val2012.json\"}\n",
    "\n",
    "#trainset = ImageClassificationDataset(data_path+ \"/train\", transforms= transforms, shuffle=True)\n",
    "#valset = ImageClassificationDataset(data_path+ \"/val\", transforms= transforms, shuffle = True)\n",
    "\n",
    "trainset = ObjectDetectionDataset(img_dir=voc_path, ann_path = voc_anno['train'],transforms= transforms)\n",
    "valset = ObjectDetectionDataset(img_dir=voc_path, ann_path = voc_anno['val'],transforms= transforms)\n",
    "print(trainset)\n",
    "print(valset)"
   ]
  },
  {
   "cell_type": "code",
   "execution_count": 8,
   "metadata": {
    "ExecuteTime": {
     "end_time": "2020-08-19T17:42:21.730145Z",
     "start_time": "2020-08-19T17:42:21.510170Z"
    }
   },
   "outputs": [
    {
     "data": {
      "image/png": "[encoded data removed]",
      "text/plain": [
       "<Figure size 576x576 with 1 Axes>"
      ]
     },
     "metadata": {
      "needs_background": "light"
     },
     "output_type": "display_data"
    }
   ],
   "source": [
    "valset.plot()"
   ]
  },
  {
   "cell_type": "code",
   "execution_count": 5,
   "metadata": {
    "ExecuteTime": {
     "end_time": "2020-08-19T17:36:50.654185Z",
     "start_time": "2020-08-19T17:36:50.627258Z"
    }
   },
   "outputs": [
    {
     "name": "stdout",
     "output_type": "stream",
     "text": [
      "Using cuda\n"
     ]
    }
   ],
   "source": [
    "device = torch.device(\"cuda\" if torch.cuda.is_available() else \"cpu\")\n",
    "print(\"Using\", device)"
   ]
  },
  {
   "cell_type": "code",
   "execution_count": 6,
   "metadata": {
    "ExecuteTime": {
     "end_time": "2020-08-19T17:36:52.386823Z",
     "start_time": "2020-08-19T17:36:52.382834Z"
    }
   },
   "outputs": [],
   "source": [
    "# Dataloader\n",
    "BATCH_SIZE = 16\n",
    "trainloader = data.DataLoader(trainset, batch_size=BATCH_SIZE, shuffle=True)\n",
    "valloader = data.DataLoader(valset, batch_size=BATCH_SIZE, shuffle=False)"
   ]
  },
  {
   "cell_type": "code",
   "execution_count": null,
   "metadata": {
    "ExecuteTime": {
     "end_time": "2020-08-19T16:55:48.667211Z",
     "start_time": "2020-08-19T16:55:48.660201Z"
    }
   },
   "outputs": [],
   "source": [
    "criterion = nn.CrossEntropyLoss()\n",
    "optimizer = torch.optim.Adam\n",
    "metrics = [AccuracyMetric(decimals=3)]"
   ]
  },
  {
   "cell_type": "code",
   "execution_count": null,
   "metadata": {
    "ExecuteTime": {
     "end_time": "2020-08-19T16:55:50.687014Z",
     "start_time": "2020-08-19T16:55:48.668180Z"
    }
   },
   "outputs": [],
   "source": [
    "NUM_CLASSES = len(trainset.classes)\n",
    "model = ResNet34(NUM_CLASSES,\n",
    "                 lr = 1e-4,\n",
    "                 criterion= criterion, \n",
    "                 optimizer= optimizer,\n",
    "                 metrics=  metrics,\n",
    "                 device = device)\n",
    "#load_checkpoint(model, \"weights/ResNet34-12.pth\")"
   ]
  },
  {
   "cell_type": "code",
   "execution_count": null,
   "metadata": {
    "ExecuteTime": {
     "end_time": "2020-08-19T17:00:10.010744Z",
     "start_time": "2020-08-19T16:55:50.687983Z"
    }
   },
   "outputs": [],
   "source": [
    "cp = Checkpoint(save_per_epoch=1)\n",
    "trainer = Trainer(model,\n",
    "                 trainloader, \n",
    "                 valloader,\n",
    "                 checkpoint = cp, \n",
    "                 evaluate_per_epoch = 1)\n",
    "\n",
    "trainer.fit(num_epochs=5)"
   ]
  },
  {
   "cell_type": "code",
   "execution_count": null,
   "metadata": {
    "ExecuteTime": {
     "end_time": "2020-08-19T17:04:22.445151Z",
     "start_time": "2020-08-19T17:04:19.563219Z"
    }
   },
   "outputs": [],
   "source": [
    "preds = trainer.inference_batch(valloader)\n",
    "print(preds)"
   ]
  },
  {
   "cell_type": "code",
   "execution_count": null,
   "metadata": {
    "ExecuteTime": {
     "end_time": "2020-08-19T17:04:35.298649Z",
     "start_time": "2020-08-19T17:04:35.078239Z"
    }
   },
   "outputs": [],
   "source": [
    "idx = 35\n",
    "print(valset.classes[preds[idx]])\n",
    "valset.visualize_item(idx, figsize = (8,8))"
   ]
  }
 ],
 "metadata": {
  "kernelspec": {
   "display_name": "Python 3.7.6 64-bit",
   "language": "python",
   "name": "python37664bitf1e933645d11461e8e62088c1ac0a078"
  },
  "language_info": {
   "codemirror_mode": {
    "name": "ipython",
    "version": 3
   },
   "file_extension": ".py",
   "mimetype": "text/x-python",
   "name": "python",
   "nbconvert_exporter": "python",
   "pygments_lexer": "ipython3",
   "version": "3.7.6"
  }
 },
 "nbformat": 4,
 "nbformat_minor": 2
}
